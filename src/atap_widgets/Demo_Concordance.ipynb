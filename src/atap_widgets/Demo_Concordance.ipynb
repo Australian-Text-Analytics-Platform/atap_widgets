{
 "cells": [
  {
   "cell_type": "code",
   "execution_count": 4,
   "id": "c411e0fe",
   "metadata": {},
   "outputs": [],
   "source": [
    "import pandas as pd\n",
    "import spacy\n",
    "#from atap_widgets.concordance import ConcordanceTable, ConcordanceWidget\n",
    "from concordance import ConcordanceTable, ConcordanceWidget, DataIngest\n",
    "from concordance import prepare_text_df\n",
    "import dask.bag as db\n",
    "import re\n"
   ]
  },
  {
   "cell_type": "code",
   "execution_count": 5,
   "id": "f9ce2a40",
   "metadata": {},
   "outputs": [],
   "source": [
    "#Make Some Data - Assign paths\n",
    "\n",
    "\n",
    "def sherlock_holmes_five_sentences():\n",
    "    return \"\"\"To Sherlock Holmes she is always the woman. I have seldom heard him\n",
    "    mention her under any other name. In his eyes she eclipses and predominates the\n",
    "    whole of her sex. It was not that he felt any emotion akin to love for Irene\n",
    "    Adler. All emotions, and that one particularly, were abhorrent to his cold,\n",
    "    precise but admirably balanced mind. \"\"\"\n",
    "\n",
    "\n",
    "def basic_spacy_nlp():\n",
    "    return spacy.load(\"en_core_web_sm\")\n",
    "\n",
    "\n",
    "def sherlock_holmes_doc(sherlock_holmes_five_sentences, basic_spacy_nlp):\n",
    "    return basic_spacy_nlp(sherlock_holmes_five_sentences)\n",
    "\n",
    "def sherlock_holmes_dummy_df(sherlock_holmes_doc):\n",
    "    \"\"\"\n",
    "    DataFrame, one row per sentence from the Sherlock Holmes example\n",
    "    \"\"\"\n",
    "    df = pd.DataFrame(\n",
    "        {\n",
    "            \"text\": [str(sentence) for sentence in sherlock_holmes_doc.sents],\n",
    "            \"speaker\": list(\"ABABA\"),\n",
    "        }\n",
    "    )\n",
    "    return df\n",
    "\n",
    "data = sherlock_holmes_five_sentences()\n",
    "sherlock_df = sherlock_holmes_dummy_df(sherlock_holmes_doc(data,basic_spacy_nlp()))\n",
    "\n",
    "D_path_QandA = '../../tests/data/D.QandA_Dummy.txt'\n",
    "\n",
    "C_path_PoliticalInterview = '../../tests/private_data/C.Political_Interview_Public.txt'\n",
    "\n",
    "E_path_transcript = '../../tests/private_data/E.interview_transcript_public.txt'\n",
    "\n",
    "MarkScottisCool = \"../../tests/data/MarkScottNationalPressClub.txt\"\n"
   ]
  },
  {
   "cell_type": "markdown",
   "id": "1b7b31d0",
   "metadata": {},
   "source": [
    "## DataIngest Demo 1 CSV Sherlock Data"
   ]
  },
  {
   "cell_type": "markdown",
   "id": "571c3c83-7e4b-47f3-a8f0-fdfffe0e8034",
   "metadata": {},
   "source": [
    "**Introduction**\n",
    "- DataIngest is a class that caters for CSV, Text Files, and existing DataFrames loaded in python. Text files are a special mention, where symbols can be assigned which are used in the text to designate key- value pairs. If the symbol variable is inputed, DataIngest filters the text for these key-value pairs only and converts it into a dataframe object\n",
    "\n",
    "- Lines of text are grouped into chunks. The chunk variable is an integer reflecting the number of lines you intend to group as each chunk\n",
    "- The context is taken from the grouping. \n",
    "\n",
    "**Limitations:**\n",
    "- If the word you are matching begins at the start of a group a larger chunk integer is suggested.\n",
    "- Lines are tagged with a --[line_number] symbol in the text (which can be removed). However, if the raw data has this symbol within the text it may be missleading."
   ]
  },
  {
   "cell_type": "code",
   "execution_count": 6,
   "id": "d3733ac4",
   "metadata": {},
   "outputs": [
    {
     "name": "stderr",
     "output_type": "stream",
     "text": [
      "/Users/kris/miniconda3/envs/atap_sandbox/lib/python3.9/site-packages/pandas/core/indexes/base.py:6982: FutureWarning: In a future version, the Index constructor will not infer numeric dtypes when passed object-dtype sequences (matching Series behavior)\n",
      "  return Index(sequences[0], name=names)\n"
     ]
    },
    {
     "data": {
      "application/vnd.jupyter.widget-view+json": {
       "model_id": "6cf494d1e3974fadb1b229f7929aef26",
       "version_major": 2,
       "version_minor": 0
      },
      "text/plain": [
       "VBox(children=(Text(value='', description='Keyword(s):'), HBox(children=(Checkbox(value=False, description='En…"
      ]
     },
     "metadata": {},
     "output_type": "display_data"
    },
    {
     "data": {
      "text/plain": [
       "<concordance.DataIngestWidget at 0x16cc51c10>"
      ]
     },
     "execution_count": 6,
     "metadata": {},
     "output_type": "execute_result"
    }
   ],
   "source": [
    "\n",
    "CHUNK = 5\n",
    "\n",
    "DataCSV = DataIngest(type = \"csv\",path = \"../../tests/data/sherlock_for_testing.csv\",chunk = CHUNK) #By Text / Csv file\n",
    "#DataCSV = DataIngest(type = \"dataframe\",df_input = sherlock_df,chunk = CHUNK)  # Or exisitng dataframe\n",
    "\n",
    "DataCSV.appify() #increasing \"Window Size(characters) \" bring in context provided text has large enough grouping (i.e. chunks)\n"
   ]
  },
  {
   "cell_type": "code",
   "execution_count": 7,
   "id": "c6ac7a36-497d-4757-826e-c0b3cf7bee8d",
   "metadata": {},
   "outputs": [
    {
     "data": {
      "text/html": [
       "<div>\n",
       "<style scoped>\n",
       "    .dataframe tbody tr th:only-of-type {\n",
       "        vertical-align: middle;\n",
       "    }\n",
       "\n",
       "    .dataframe tbody tr th {\n",
       "        vertical-align: top;\n",
       "    }\n",
       "\n",
       "    .dataframe thead th {\n",
       "        text-align: right;\n",
       "    }\n",
       "</style>\n",
       "<table border=\"1\" class=\"dataframe\">\n",
       "  <thead>\n",
       "    <tr style=\"text-align: right;\">\n",
       "      <th></th>\n",
       "      <th>text</th>\n",
       "      <th>speaker</th>\n",
       "      <th>chunk</th>\n",
       "      <th>row</th>\n",
       "    </tr>\n",
       "  </thead>\n",
       "  <tbody>\n",
       "    <tr>\n",
       "      <th>0</th>\n",
       "      <td>0--To Sherlock Holmes she is always the woman.</td>\n",
       "      <td>A</td>\n",
       "      <td>0</td>\n",
       "      <td>0</td>\n",
       "    </tr>\n",
       "    <tr>\n",
       "      <th>1</th>\n",
       "      <td>1--I have seldom heard him\\n    mention her un...</td>\n",
       "      <td>B</td>\n",
       "      <td>0</td>\n",
       "      <td>1</td>\n",
       "    </tr>\n",
       "    <tr>\n",
       "      <th>2</th>\n",
       "      <td>2--In his eyes she eclipses and predominates t...</td>\n",
       "      <td>A</td>\n",
       "      <td>0</td>\n",
       "      <td>2</td>\n",
       "    </tr>\n",
       "    <tr>\n",
       "      <th>3</th>\n",
       "      <td>3--It was not that he felt any emotion akin to...</td>\n",
       "      <td>B</td>\n",
       "      <td>0</td>\n",
       "      <td>3</td>\n",
       "    </tr>\n",
       "    <tr>\n",
       "      <th>4</th>\n",
       "      <td>4--All emotions, and that one particularly, we...</td>\n",
       "      <td>A</td>\n",
       "      <td>0</td>\n",
       "      <td>4</td>\n",
       "    </tr>\n",
       "  </tbody>\n",
       "</table>\n",
       "</div>"
      ],
      "text/plain": [
       "                                                text speaker  chunk  row\n",
       "0     0--To Sherlock Holmes she is always the woman.       A      0    0\n",
       "1  1--I have seldom heard him\\n    mention her un...       B      0    1\n",
       "2  2--In his eyes she eclipses and predominates t...       A      0    2\n",
       "3  3--It was not that he felt any emotion akin to...       B      0    3\n",
       "4  4--All emotions, and that one particularly, we...       A      0    4"
      ]
     },
     "execution_count": 7,
     "metadata": {},
     "output_type": "execute_result"
    }
   ],
   "source": [
    "#Can explore these helpers if chunk needs tinkering\n",
    "DataCSV.get_original_data()\n",
    "DataCSV.get_grouped_data()"
   ]
  },
  {
   "cell_type": "code",
   "execution_count": 9,
   "id": "60c2e28c-0f3f-423c-b87a-6d7dbb4b2929",
   "metadata": {},
   "outputs": [
    {
     "name": "stderr",
     "output_type": "stream",
     "text": [
      "/Users/kris/miniconda3/envs/atap_sandbox/lib/python3.9/site-packages/pandas/core/indexes/base.py:6982: FutureWarning: In a future version, the Index constructor will not infer numeric dtypes when passed object-dtype sequences (matching Series behavior)\n",
      "  return Index(sequences[0], name=names)\n"
     ]
    },
    {
     "data": {
      "application/vnd.jupyter.widget-view+json": {
       "model_id": "68ee7057cdf14e228fd3287d138aae58",
       "version_major": 2,
       "version_minor": 0
      },
      "text/plain": [
       "VBox(children=(Text(value='', description='Keyword(s):'), HBox(children=(Checkbox(value=False, description='En…"
      ]
     },
     "metadata": {},
     "output_type": "display_data"
    }
   ],
   "source": [
    "#Older DataWidget and Concordance Table Functionality still retained\n",
    "\n",
    "original_data = DataCSV.get_original_data()\n",
    "\n",
    "original_data.head() #chuch and row columns added to original data.\n",
    "\n",
    "data = pd.read_csv(\"../../tests/data/sherlock_for_testing.csv\")                  \n",
    "data =  prepare_text_df(data)\n",
    "\n",
    "table = ConcordanceTable(df = data,keyword = \"she\")\n",
    "table\n",
    "\n",
    "search_results_df = table.to_dataframe() #extract results into dataframe\n",
    "search_results_df.head()\n",
    "\n",
    "oldWidget = ConcordanceWidget(data) #run simplier widget (no chunks or context)\n",
    "oldWidget.show()\n"
   ]
  },
  {
   "cell_type": "markdown",
   "id": "1a308a67",
   "metadata": {},
   "source": [
    "## DataIngest Demo 2 Debate Data"
   ]
  },
  {
   "cell_type": "markdown",
   "id": "e7de1ab0",
   "metadata": {},
   "source": [
    "### Debate Data"
   ]
  },
  {
   "cell_type": "code",
   "execution_count": 11,
   "id": "b7a89032",
   "metadata": {},
   "outputs": [
    {
     "name": "stderr",
     "output_type": "stream",
     "text": [
      "/Users/kris/miniconda3/envs/atap_sandbox/lib/python3.9/site-packages/pandas/core/indexes/base.py:6982: FutureWarning: In a future version, the Index constructor will not infer numeric dtypes when passed object-dtype sequences (matching Series behavior)\n",
      "  return Index(sequences[0], name=names)\n"
     ]
    },
    {
     "data": {
      "application/vnd.jupyter.widget-view+json": {
       "model_id": "a44dd38c44ce4e96bc3d9caf7c9e1abc",
       "version_major": 2,
       "version_minor": 0
      },
      "text/plain": [
       "VBox(children=(Text(value='', description='Keyword(s):'), HBox(children=(Checkbox(value=False, description='En…"
      ]
     },
     "metadata": {},
     "output_type": "display_data"
    },
    {
     "data": {
      "text/plain": [
       "<concordance.DataIngestWidget at 0x29bef6f10>"
      ]
     },
     "execution_count": 11,
     "metadata": {},
     "output_type": "execute_result"
    }
   ],
   "source": [
    "# DataIngest doesnt work that well for large lines and lines with large variability (long plus short lines in test).\n",
    "\n",
    "CHUNK = 10 #increase chunks to expand context region. i.e. \"time\" search for instance\n",
    "data = pd.read_excel(\"../../tests/data/A.debate_clean.xlsx\") #already has text_id\n",
    "DataDF = DataIngest(type = \"dataframe\",df_input = data,chunk = CHUNK)\n",
    "DataDF.appify() #search economy versus environment and bring in speaker from ShowMore dropdown\n"
   ]
  },
  {
   "cell_type": "markdown",
   "id": "22ddf119",
   "metadata": {},
   "source": [
    "### Setup other demos \n",
    "\n"
   ]
  },
  {
   "cell_type": "markdown",
   "id": "9ce51f13",
   "metadata": {},
   "source": [
    "## DataIngest Demo 3 Question Answer text"
   ]
  },
  {
   "cell_type": "code",
   "execution_count": 11,
   "id": "caf9ac92-a6da-41e2-a468-72e75e89b28f",
   "metadata": {},
   "outputs": [
    {
     "name": "stdout",
     "output_type": "stream",
     "text": [
      "Question: What is your favourite animal in Australia?\n",
      "Name 6: Kangaroos and koalas.\n",
      "\n",
      "Question: What is your favourite animal in Australia?\n",
      "Name 1: Wombats are my favourite.\n",
      "\n",
      "Question: What is your favourite animal in Australia?\n",
      "Name 10: I don’t know, but I know I don’t like any of the poisonous spiders and dangerous snakes!\n",
      "\n",
      "Question: What is your favourite food in Australia?\n"
     ]
    }
   ],
   "source": [
    "# This is what data looks like\n",
    "! head $D_path_QandA"
   ]
  },
  {
   "cell_type": "code",
   "execution_count": 13,
   "id": "d2b33d8e",
   "metadata": {},
   "outputs": [
    {
     "name": "stderr",
     "output_type": "stream",
     "text": [
      "/Users/kris/miniconda3/envs/atap_sandbox/lib/python3.9/site-packages/pandas/core/indexes/base.py:6982: FutureWarning: In a future version, the Index constructor will not infer numeric dtypes when passed object-dtype sequences (matching Series behavior)\n",
      "  return Index(sequences[0], name=names)\n"
     ]
    },
    {
     "data": {
      "application/vnd.jupyter.widget-view+json": {
       "model_id": "996a1f850a164b50967e98aa7c6c9d7a",
       "version_major": 2,
       "version_minor": 0
      },
      "text/plain": [
       "VBox(children=(Text(value='', description='Keyword(s):'), HBox(children=(Checkbox(value=False, description='En…"
      ]
     },
     "metadata": {},
     "output_type": "display_data"
    },
    {
     "data": {
      "text/plain": [
       "<concordance.DataIngestWidget at 0x299ba0a60>"
      ]
     },
     "execution_count": 13,
     "metadata": {},
     "output_type": "execute_result"
    }
   ],
   "source": [
    "symbol = r':' #can define a symbol to split lines. Assumes all relevant info is in the format key [SYMBOL] value.\n",
    "\n",
    "CHUNK = 4\n",
    "\n",
    "DataDF = DataIngest(type = \"txt\",path = D_path_QandA,re_symbol_txt = symbol,chunk = CHUNK)\n",
    "\n",
    "DataDF.appify() #search tomatos, pick \"key\" in \"Show More\"\n"
   ]
  },
  {
   "cell_type": "code",
   "execution_count": 10,
   "id": "7de43ce9-50d7-4f47-be49-b2b72a6e5649",
   "metadata": {},
   "outputs": [],
   "source": [
    "### Old Widget doesnt really cater for this - DataIngest performs better"
   ]
  },
  {
   "cell_type": "code",
   "execution_count": 14,
   "id": "a3ba0273-e716-4102-bb8b-cdc0cbd025bc",
   "metadata": {},
   "outputs": [
    {
     "name": "stderr",
     "output_type": "stream",
     "text": [
      "/Users/kris/miniconda3/envs/atap_sandbox/lib/python3.9/site-packages/pandas/core/indexes/base.py:6982: FutureWarning: In a future version, the Index constructor will not infer numeric dtypes when passed object-dtype sequences (matching Series behavior)\n",
      "  return Index(sequences[0], name=names)\n"
     ]
    },
    {
     "data": {
      "application/vnd.jupyter.widget-view+json": {
       "model_id": "9ff73d70d407455fb2e411bec7a06c3f",
       "version_major": 2,
       "version_minor": 0
      },
      "text/plain": [
       "VBox(children=(Text(value='', description='Keyword(s):'), HBox(children=(Checkbox(value=False, description='En…"
      ]
     },
     "metadata": {},
     "output_type": "display_data"
    }
   ],
   "source": [
    "data = pd.read_table(D_path_QandA,delimiter=':')\n",
    "data = data.rename(columns = {\"Question\":\"text_id\",\" What is your favourite animal in Australia?\":\"text\"})\n",
    "data\n",
    "\n",
    "data =  prepare_text_df(data)\n",
    "table = ConcordanceTable(df = data,keyword = \"publish\")\n",
    "oldWidget = ConcordanceWidget(data)\n",
    "oldWidget.show() #kangaroo"
   ]
  },
  {
   "cell_type": "markdown",
   "id": "0bd7631b",
   "metadata": {},
   "source": [
    "## Political Interview Case C"
   ]
  },
  {
   "cell_type": "code",
   "execution_count": 13,
   "id": "2783fc94-cf96-41dc-9d88-fd312d2e3046",
   "metadata": {},
   "outputs": [
    {
     "name": "stdout",
     "output_type": "stream",
     "text": [
      "TRANSCRIPT: RADIO INTERVIEW - ABC RN DRIVE - MONDAY, 10 FEBRUARY 2020\n",
      "\n",
      "10 February 2020\n",
      "\n",
      " \n",
      "\n",
      "THE HON TANYA PLIBERSEK MP\n",
      "SHADOW MINISTER FOR EDUCATION AND TRAINING\n",
      "MEMBER FOR SYDNEY\n",
      "\n",
      "E&OE TRANSCRIPT\n",
      "RADIO INTERVIEW\n",
      "ABC RN DRIVE\n",
      "MONDAY, 10 FEBRUARY 2020\n",
      "\n",
      "SUBJECTS:Coalition in-fighting and chaos; coronavirus and its impact on higher education; Grattan Institute report into teaching profession.\n",
      "\n",
      "PATRICIA KARVELAS, HOST: Labor played a key role in these chaotic scenes that saw National Party defector, Llew O'Brien, elected to the position of Deputy Speaker of the House of Representatives this afternoon. Regardless of whether the nomination was a stunt, it's a reality now thanks to Labor's movements; and Llew O'Brien's new reality sees him pocket an extra $20,000 a year. So, all in all, not a bad outcome for him today. The distractions came as Australia's tertiary education sector struggles to come to terms with the prospect of a $3.1 billion hit from coronavirus. Tanya Plibersek is the Shadow Minister for Education and Training and former Deputy Leader of the Labor Party. She joins us this afternoon, Tanya, welcome.\n",
      "\n",
      "TANYA PLIBERSEK, SHADOW MINISTER FOR EDUCATION AND TRAINING: Hi Patricia, I'm still daydreaming about Sicily after listening to Mark.\n"
     ]
    }
   ],
   "source": [
    "# Data looks like this:\n",
    "! head -n 20 $C_path_PoliticalInterview"
   ]
  },
  {
   "cell_type": "code",
   "execution_count": 17,
   "id": "bf7f86dd",
   "metadata": {},
   "outputs": [
    {
     "name": "stderr",
     "output_type": "stream",
     "text": [
      "/Users/kris/miniconda3/envs/atap_sandbox/lib/python3.9/site-packages/pandas/core/indexes/base.py:6982: FutureWarning: In a future version, the Index constructor will not infer numeric dtypes when passed object-dtype sequences (matching Series behavior)\n",
      "  return Index(sequences[0], name=names)\n"
     ]
    },
    {
     "data": {
      "application/vnd.jupyter.widget-view+json": {
       "model_id": "755f060b2185412baa5e60b983ee2bbb",
       "version_major": 2,
       "version_minor": 0
      },
      "text/plain": [
       "VBox(children=(Text(value='', description='Keyword(s):'), HBox(children=(Checkbox(value=False, description='En…"
      ]
     },
     "metadata": {},
     "output_type": "display_data"
    },
    {
     "data": {
      "text/plain": [
       "<concordance.DataIngestWidget at 0x16c6a3e50>"
      ]
     },
     "execution_count": 17,
     "metadata": {},
     "output_type": "execute_result"
    }
   ],
   "source": [
    "\n",
    "symbol = r':' \n",
    "CHUNK = 10 #change from 4 to 10 to get billion context\n",
    "\n",
    "DataDF = DataIngest(type = \"txt\",path = C_path_PoliticalInterview,re_symbol_txt = symbol,chunk = CHUNK)\n",
    "\n",
    "DataDF.appify() #billion. Demo Change chunk size and DataDF.get_grouped_data() to see chunk partitians\n"
   ]
  },
  {
   "cell_type": "markdown",
   "id": "f58385b1-9f49-4b2b-a800-eb768e4754f6",
   "metadata": {
    "tags": []
   },
   "source": [
    " ## Strategy "
   ]
  },
  {
   "cell_type": "code",
   "execution_count": 12,
   "id": "f6197e76-4ec5-4785-a332-aff2eedbb9d5",
   "metadata": {},
   "outputs": [
    {
     "name": "stdout",
     "output_type": "stream",
     "text": [
      "\n",
      "\n",
      "I acknowledge that we meet today on the ancestral lands of the Ngunnawal people, the traditional custodians of this land. I pay my respects to elders past and present, and those who have cared for and continue to care for country.\n",
      "\n",
      "It’s great to be with you.\n",
      "\n",
      "The University of Sydney is Australia’s oldest university. We took in our first students in 1852 and just yesterday released our aspirations for the decade through to 2032, by which time we’ll be closing in on the end of the University’s second century.\n",
      "\n",
      "In considering our future, we humbly acknowledge that for hundreds of centuries before the University of Sydney opened its doors, generations of First Nations peoples have been exchanging knowledge on the ancestral lands on which the University’s campuses and facilities now stand. And as we create a university for the future, we aim to extend and build upon this prior knowledge.\n",
      "\n",
      "Today I want to give you a sense of our vision for the next decade.\n",
      "\n",
      "I have been Vice-Chancellor at Sydney for a little over a year now.\n",
      "\n",
      "For me, for many months - as it was for many of our students and staff - life at the University of Sydney took place remotely, on screen from home. I have to say that the novelty of a 60-second commute to the desk for my first Zoom meeting of the day quickly wore off.\n",
      "\n",
      "But this year we are back on campus in force. We still have many international students unable to be on campus due to local lockdowns and limited access to affordable flights. Yet we have many more who’ve made it back for second semester. The University is once more alive and humming with the energy of students and staff. \n",
      "Working for social good\n",
      "\n",
      "By global standards, Australia’s key research universities are large. Sydney’s scale often surprises my overseas counterparts.\n"
     ]
    }
   ],
   "source": [
    "! head -n 20 $MarkScottisCool"
   ]
  },
  {
   "cell_type": "code",
   "execution_count": 19,
   "id": "a05b93bc-3d5d-4565-ae4a-e09019b8804d",
   "metadata": {},
   "outputs": [
    {
     "name": "stderr",
     "output_type": "stream",
     "text": [
      "/Users/kris/miniconda3/envs/atap_sandbox/lib/python3.9/site-packages/pandas/core/indexes/base.py:6982: FutureWarning: In a future version, the Index constructor will not infer numeric dtypes when passed object-dtype sequences (matching Series behavior)\n",
      "  return Index(sequences[0], name=names)\n"
     ]
    },
    {
     "data": {
      "application/vnd.jupyter.widget-view+json": {
       "model_id": "18479be95827417aa7be90a6e361a932",
       "version_major": 2,
       "version_minor": 0
      },
      "text/plain": [
       "VBox(children=(Text(value='', description='Keyword(s):'), HBox(children=(Checkbox(value=False, description='En…"
      ]
     },
     "metadata": {},
     "output_type": "display_data"
    }
   ],
   "source": [
    "# Just Text - i.e. no structure, symbol, column heading etc.....\n",
    "data = pd.read_table(MarkScottisCool,names = [\"text\"])\n",
    "data =  prepare_text_df(data)\n",
    "table = ConcordanceTable(df = data,keyword = \"publish\")\n",
    "oldWidget = ConcordanceWidget(data)\n",
    "oldWidget.show() #pandemic\n"
   ]
  },
  {
   "cell_type": "code",
   "execution_count": 21,
   "id": "80adaaa9-0ff0-4b84-b5ca-86d87038861d",
   "metadata": {},
   "outputs": [
    {
     "name": "stderr",
     "output_type": "stream",
     "text": [
      "/Users/kris/miniconda3/envs/atap_sandbox/lib/python3.9/site-packages/pandas/core/indexes/base.py:6982: FutureWarning: In a future version, the Index constructor will not infer numeric dtypes when passed object-dtype sequences (matching Series behavior)\n",
      "  return Index(sequences[0], name=names)\n"
     ]
    },
    {
     "data": {
      "application/vnd.jupyter.widget-view+json": {
       "model_id": "a52fc95d9f6f48d9af5cae9c54793a78",
       "version_major": 2,
       "version_minor": 0
      },
      "text/plain": [
       "VBox(children=(Text(value='', description='Keyword(s):'), HBox(children=(Checkbox(value=False, description='En…"
      ]
     },
     "metadata": {},
     "output_type": "display_data"
    },
    {
     "data": {
      "text/plain": [
       "<concordance.DataIngestWidget at 0x2b163bcd0>"
      ]
     },
     "execution_count": 21,
     "metadata": {},
     "output_type": "execute_result"
    }
   ],
   "source": [
    "# Just Text - i.e. no structure, symbol, column heading etc.....\n",
    "CHUNK = 4\n",
    "DataDF = DataIngest(type = \"txt\",path = MarkScottisCool)\n",
    "DataDF.appify() #Debug pandemic and \"person\"\n"
   ]
  },
  {
   "cell_type": "markdown",
   "id": "5971da9f-0e55-4975-bc7b-1028c3a9c443",
   "metadata": {
    "tags": []
   },
   "source": [
    "# Harder Case Transcript Case E #TODO"
   ]
  },
  {
   "cell_type": "code",
   "execution_count": 11,
   "id": "eb1c2bb2-93d1-42cf-9014-b2a49b158443",
   "metadata": {},
   "outputs": [
    {
     "name": "stdout",
     "output_type": "stream",
     "text": [
      "Speaker 1: (00:00)\n",
      "\"Bill Gates co-founded Microsoft nearly 50 years ago at the forefront of the computer age that changed the world. Since then, he’s been using the fortune that earned him to change the world, the Gates Foundation giving away tens of billions of dollars over the past decade. He also famously predicted the world was unprepared for a pandemic in a 2015 Ted Talk that was unfortunately accurate and has been viewed now 43 million times.\"\n",
      "\n",
      "Speaker 1: (00:25)\n",
      "\"Well, he’s sounding the alarm again this morning. His new book How to Prevent the Next Pandemic is out today. It’s also been a year of upheaval in his own life after he and Melinda, his wife of 27 years, announced their divorce one year ago today. So, Bill, we have so much to catch up on. It’s good to see you. Good morning.\"\n",
      "\n",
      "Bill Gates: (00:41)\n",
      "Good to see you.\n",
      "\n",
      "Speaker 1: (00:41)\n"
     ]
    }
   ],
   "source": [
    "#what does data look like ?\n",
    "! head -n 10 $E_path_transcript"
   ]
  },
  {
   "cell_type": "code",
   "execution_count": 24,
   "id": "2d6686ed-cc89-47dd-95fc-4a8d1bcacde0",
   "metadata": {},
   "outputs": [
    {
     "name": "stderr",
     "output_type": "stream",
     "text": [
      "/var/folders/j2/6znnc26n7r9gk1qjgh7wy6bh0000gn/T/ipykernel_7507/3485740710.py:9: FutureWarning: The default value of regex will change from True to False in a future version.\n",
      "  test.str.replace(symbol,\"\")\n"
     ]
    },
    {
     "data": {
      "text/plain": [
       "0             Bill Gates: Good to see you.\n",
       "1    Speaker 1: \"Well, he’s sounding the a\n",
       "dtype: object"
      ]
     },
     "execution_count": 24,
     "metadata": {},
     "output_type": "execute_result"
    }
   ],
   "source": [
    "test = pd.Series([\"\"\"Bill Gates: (00:41)\n",
    "Good to see you.\"\"\",\"\"\"Speaker 1: (00:25)\n",
    "\"Well, he’s sounding the a\"\"\"])\n",
    "                  \n",
    "test\n",
    "symbol = r\"(\\(\\d+\\:\\d+\\)\\n)\"\n",
    "test.str.extract(symbol)\n",
    "\n",
    "test.str.replace(symbol,\"\") #try changing text and feeding into existing widget."
   ]
  },
  {
   "cell_type": "code",
   "execution_count": 22,
   "id": "a20dff67",
   "metadata": {},
   "outputs": [
    {
     "data": {
      "text/html": [
       "<div>\n",
       "<style scoped>\n",
       "    .dataframe tbody tr th:only-of-type {\n",
       "        vertical-align: middle;\n",
       "    }\n",
       "\n",
       "    .dataframe tbody tr th {\n",
       "        vertical-align: top;\n",
       "    }\n",
       "\n",
       "    .dataframe thead th {\n",
       "        text-align: right;\n",
       "    }\n",
       "</style>\n",
       "<table border=\"1\" class=\"dataframe\">\n",
       "  <thead>\n",
       "    <tr style=\"text-align: right;\">\n",
       "      <th></th>\n",
       "      <th>0</th>\n",
       "    </tr>\n",
       "  </thead>\n",
       "  <tbody>\n",
       "    <tr>\n",
       "      <th>0</th>\n",
       "      <td>Speaker 1: (00:00)</td>\n",
       "    </tr>\n",
       "    <tr>\n",
       "      <th>1</th>\n",
       "      <td>\"Bill Gates co-founded Microsoft nearly 50 yea...</td>\n",
       "    </tr>\n",
       "    <tr>\n",
       "      <th>2</th>\n",
       "      <td></td>\n",
       "    </tr>\n",
       "    <tr>\n",
       "      <th>3</th>\n",
       "      <td>Speaker 1: (00:25)</td>\n",
       "    </tr>\n",
       "    <tr>\n",
       "      <th>4</th>\n",
       "      <td>\"Well, he’s sounding the alarm again this morn...</td>\n",
       "    </tr>\n",
       "    <tr>\n",
       "      <th>...</th>\n",
       "      <td>...</td>\n",
       "    </tr>\n",
       "    <tr>\n",
       "      <th>120</th>\n",
       "      <td>Speaker 1: (11:08)</td>\n",
       "    </tr>\n",
       "    <tr>\n",
       "      <th>121</th>\n",
       "      <td>\"All right, Bill. Thank you so much. Thanks fo...</td>\n",
       "    </tr>\n",
       "    <tr>\n",
       "      <th>122</th>\n",
       "      <td></td>\n",
       "    </tr>\n",
       "    <tr>\n",
       "      <th>123</th>\n",
       "      <td>Speaker 3: (11:18)</td>\n",
       "    </tr>\n",
       "    <tr>\n",
       "      <th>124</th>\n",
       "      <td>\"Hey, thanks for watching our YouTube channel....</td>\n",
       "    </tr>\n",
       "  </tbody>\n",
       "</table>\n",
       "<p>125 rows × 1 columns</p>\n",
       "</div>"
      ],
      "text/plain": [
       "                                                     0\n",
       "0                                   Speaker 1: (00:00)\n",
       "1    \"Bill Gates co-founded Microsoft nearly 50 yea...\n",
       "2                                                     \n",
       "3                                   Speaker 1: (00:25)\n",
       "4    \"Well, he’s sounding the alarm again this morn...\n",
       "..                                                 ...\n",
       "120                                 Speaker 1: (11:08)\n",
       "121  \"All right, Bill. Thank you so much. Thanks fo...\n",
       "122                                                   \n",
       "123                                 Speaker 3: (11:18)\n",
       "124  \"Hey, thanks for watching our YouTube channel....\n",
       "\n",
       "[125 rows x 1 columns]"
      ]
     },
     "execution_count": 22,
     "metadata": {},
     "output_type": "execute_result"
    }
   ],
   "source": [
    "read = E_path_transcript\n",
    "symbol = r':'\n",
    "\n",
    "symbol = r':*\\n' \n",
    "symbol = r':/([0-9]+/:[0-9]+/)\\n'\n",
    "tag = re.compile(symbol)\n",
    "\n",
    "b = db.read_text(read)\n",
    "#b = db.read_text(read).str.strip().str.split(symbol) #Handles D and C\n",
    "b = db.read_text(read).str.strip().str.replace(symbol,\"X\")\n",
    "\n",
    "data = b.to_dataframe()\n",
    "data.compute()"
   ]
  },
  {
   "cell_type": "markdown",
   "id": "21b25321",
   "metadata": {},
   "source": [
    "\n",
    "\n",
    "\n"
   ]
  },
  {
   "cell_type": "code",
   "execution_count": null,
   "id": "8bbe38b2",
   "metadata": {},
   "outputs": [],
   "source": []
  }
 ],
 "metadata": {
  "kernelspec": {
   "display_name": "Python 3 (ipykernel)",
   "language": "python",
   "name": "python3"
  },
  "language_info": {
   "codemirror_mode": {
    "name": "ipython",
    "version": 3
   },
   "file_extension": ".py",
   "mimetype": "text/x-python",
   "name": "python",
   "nbconvert_exporter": "python",
   "pygments_lexer": "ipython3",
   "version": "3.9.13"
  }
 },
 "nbformat": 4,
 "nbformat_minor": 5
}
