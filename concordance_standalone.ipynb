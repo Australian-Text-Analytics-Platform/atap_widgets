{
 "cells": [
  {
   "cell_type": "markdown",
   "id": "21e007218f163f61",
   "metadata": {
    "collapsed": false
   },
   "source": [
    "# ATAP Concordancer"
   ]
  },
  {
   "cell_type": "markdown",
   "id": "9fad19ba24ac2609",
   "metadata": {
    "collapsed": false,
    "jp-MarkdownHeadingCollapsed": true
   },
   "source": [
    "## Introduction"
   ]
  },
  {
   "cell_type": "markdown",
   "id": "1aec810dd29aeb8d",
   "metadata": {
    "collapsed": false
   },
   "source": [
    "This notebook is a Concordancer tool which allows users to upload text data (eg. .csv or .txt file) and to search the text for each instance of a search term, presenting it in the form of a concordance. The Concordancer retrieves all relevant instances of the search term and displays them for users in the tool as well as making them available for download as a CSV file for additional analysis. It has specifically been designed to allow users (i) to undertake ‘dialogic’ analysis (when the input consists of related text pairs, such as question-answer or social media post-response) and/or (ii) to make visible the meta-data that are associated with the occurrence of the search term (when available in the input; for example, speaker identity, political affiliation, company, etc).\n",
    "\n",
    "To do so, the data that is loaded into the notebook must contain ‘structured’ data, where one column consists of ‘text’ (eg the question or social media post) and the other columns consist of either the associated text of the dialogic pair (eg the relevant answer or the relevant reply/comment) or of metadata (describing aspects of the text). This is explained further below. In addition to this analysis of structured data, the notebook can create its own structured data based on symbols present in the uploaded text(s), automatically splitting the data preceding and following the relevant symbol (e.g. a colon or a question mark). This is also explained and illustrated further below.\n",
    "\n",
    "In sum, this notebook is not meant to feature all types of analyses offered by current off-the-shelf Concordancers and should be considered as complementary to such existing tools. You may want to use this tool if you are interested in using a Concordancer for dialogic analysis or exploring the relationship between search term and meta-data."
   ]
  },
  {
   "cell_type": "markdown",
   "id": "d18552f3af4f3ee4",
   "metadata": {
    "collapsed": false
   },
   "source": [
    "## File upload"
   ]
  },
  {
   "cell_type": "markdown",
   "id": "9ceb849a2ac775bb",
   "metadata": {
    "collapsed": false
   },
   "source": [
    "Upload either a CSV or text file here:"
   ]
  },
  {
   "cell_type": "code",
   "execution_count": null,
   "id": "6f02ffb5780d76b7",
   "metadata": {
    "collapsed": false
   },
   "outputs": [],
   "source": [
    "from ipywidgets import FileUpload\n",
    "from src.atap_widgets.concordance import ConcordanceLoader\n",
    "uploader = FileUpload(accept=\".csv,.txt\")\n",
    "display(uploader)"
   ]
  },
  {
   "cell_type": "markdown",
   "id": "a32c6567-7f65-43d3-a3a5-4109255fefeb",
   "metadata": {
    "jp-MarkdownHeadingCollapsed": true
   },
   "source": [
    "## How to use"
   ]
  },
  {
   "cell_type": "markdown",
   "id": "33c22a8d-9d74-47c8-918d-2e7781b6186e",
   "metadata": {},
   "source": [
    "### Preparation\n",
    "1. Upload a file by clicking the above 'Upload' button\n",
    "2. Run the code block below and wait for the concordancer tool to display\n",
    "\n",
    "### Search\n",
    "1. Enter a search term into the search field and press enter on your keyboard to perform a search\n",
    "2. Toggle the checkboxes below the search field to enable/disable regular expression matching, case sensitivity, and whole word matching\n",
    "\n",
    "- If there are many results from the search, navigate through the pages of results using the 'Page' navigator field\n",
    "\n",
    "### Display\n",
    "1. Use the 'Sort by' dropdown to sort by text_id (line number), left context, right context, or metadata columns\n",
    "2. If your data contains metadata columns, use the 'Show More' field to select a metadata column to display\n",
    "3. Export the file to an excel spreadsheetby providing an appropriate file name and clicking the button labelled \"Export to Excel\".\n",
    "   This sheet will appear in the Jupyter file window on the left and can be downloaded by right-clicking the file and clicking \"Download\"\n",
    "\n",
    "- If the context windows don't display all of the text you would like to display, change the window size using the \"Window size\" field"
   ]
  },
  {
   "cell_type": "markdown",
   "id": "31e6333f-f6a5-4222-9361-785990cc8ae8",
   "metadata": {
    "jp-MarkdownHeadingCollapsed": true
   },
   "source": [
    "## Concordancer\n",
    "Ensure you have uploaded a file and then run the block below to show the widget"
   ]
  },
  {
   "cell_type": "code",
   "execution_count": null,
   "id": "ea1897bd6ccdd924",
   "metadata": {
    "collapsed": false,
    "is_executing": true
   },
   "outputs": [],
   "source": [
    "uploaded = len(uploader.value) > 0\n",
    "if uploaded:\n",
    "    uploaded_file = uploader.value[0]\n",
    "    file_name = uploaded_file.name\n",
    "    with open(file_name, \"wb\") as fp:\n",
    "        fp.write(uploaded_file.content)\n",
    "    \n",
    "    file_type = uploaded_file.name[-3:]\n",
    "    \n",
    "    concordance_loader = ConcordanceLoader(path=file_name, type=file_type)\n",
    "    concordance_loader.show()\n",
    "else:\n",
    "    print(\"Ensure you upload a file!\")"
   ]
  },
  {
   "cell_type": "markdown",
   "id": "9786e4bf-577d-4041-b0b8-ec6a32fcab2b",
   "metadata": {},
   "source": [
    "## Concordancer - Dialogic"
   ]
  },
  {
   "cell_type": "markdown",
   "id": "231fd7c7-2c91-47fe-8404-8b0a842c0e78",
   "metadata": {},
   "source": [
    "The dialogic feature is a more advanced feature of the concordancer. It requires that you specify a character across which the text data will be split. For example, if your text is of the format `speaker: spoken words`, you can specify the \"splitter\" to be `:`, which will create a column called \"key\" for the speaker and a column for the spoken words. You can then see which speaker spoke the words in a given concordance result.\n",
    "Below, replace the `:` between the quotation marks to specify a different splitter character."
   ]
  },
  {
   "cell_type": "code",
   "execution_count": null,
   "id": "fece7014-669d-4226-b1cb-a4046ce7dbca",
   "metadata": {},
   "outputs": [],
   "source": [
    "splitter = \":\"\n",
    "\n",
    "uploaded = len(uploader.value) > 0\n",
    "if uploaded:\n",
    "    uploaded_file = uploader.value[0]\n",
    "    file_name = uploaded_file.name\n",
    "    with open(file_name, \"wb\") as fp:\n",
    "        fp.write(uploaded_file.content)\n",
    "    \n",
    "    file_type = uploaded_file.name[-3:]\n",
    "    \n",
    "    concordance_loader = ConcordanceLoader(path=file_name, type=file_type, re_symbol_txt=splitter)\n",
    "    concordance_loader.show()\n",
    "else:\n",
    "    print(\"Ensure you upload a file!\")"
   ]
  }
 ],
 "metadata": {
  "kernelspec": {
   "display_name": "Python 3 (ipykernel)",
   "language": "python",
   "name": "python3"
  },
  "language_info": {
   "codemirror_mode": {
    "name": "ipython",
    "version": 3
   },
   "file_extension": ".py",
   "mimetype": "text/x-python",
   "name": "python",
   "nbconvert_exporter": "python",
   "pygments_lexer": "ipython3",
   "version": "3.10.0"
  }
 },
 "nbformat": 4,
 "nbformat_minor": 5
}
