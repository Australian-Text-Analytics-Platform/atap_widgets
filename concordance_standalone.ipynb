{
 "cells": [
  {
   "cell_type": "markdown",
   "id": "21e007218f163f61",
   "metadata": {
    "collapsed": false
   },
   "source": [
    "# ATAP Concordancer"
   ]
  },
  {
   "cell_type": "markdown",
   "id": "9fad19ba24ac2609",
   "metadata": {
    "collapsed": false,
    "jp-MarkdownHeadingCollapsed": true
   },
   "source": [
    "## Explanation"
   ]
  },
  {
   "cell_type": "markdown",
   "id": "1aec810dd29aeb8d",
   "metadata": {
    "collapsed": false
   },
   "source": [
    "**Introduction**\n",
    "- ConcordanceLoader is a class that loads text data catering for CSV, Text Files, and existing DataFrames types. Once a class is created, a key word can be searched in the data and its concordance (i.e. existance) within the text is shown.\n",
    "\n",
    "- The main advantages of this class over other concordance tools are:\n",
    "    1. The ability to work with multiple data inputs (files (csv,text) and dataframes.\n",
    "    \n",
    "    2. Most concordance tools only show context of a key work limited to the line the key word is in. The context this ConcordanceLoader can work with spans more than the existing line and is limited to how the data is grouped into chunks (see below).\n",
    "    \n",
    "    3. When loading structured data that not only has text but other descriptive dimensions (for instance a csv that has a text column and other columns descibing the text), this tool can not only search for the context by keyword, but make visible the other descriptive columns associated with the matching text.\n",
    "    \n",
    "    4. Natural Language processing tools drive the keyword search. Thus the ConcordanceLoader has the potential in the future to be used in more versatile ways (for instance using languages other than english).\n",
    "    \n",
    "**How it works**\n",
    "\n",
    "- Lines of text are grouped into chunks and each row is tagged with its row number. The chunk variable is an integer reflecting the number of lines you intend to group within each chunk (i.e. the size in lines of one chunk). The context the keyword appears in is bounded by the chunk it resides in. A larger number of chunk groups the data more coarsely offering greater context (at the expense of loading times in some cases). \n",
    "\n",
    "- Text files are a special mention, where symbols can be assigned which are used search and split the text into key- value pairs. The ConcordanceLoader filters the text for these key-value pairs and converts matches it into a two columned dataframe object.\n",
    "\n",
    "\n",
    "**Limitations:**\n",
    "- If the word you are matching begins at the start of a group, the left context is limites by the start of the chunk group. A larger chunk integer is suggested.\n",
    "- Lines are tagged with a --[line_number] symbol in the text (which can be removed from the widget display). However, if the raw data has this pattern within the text it could cause confusion with line tagging method"
   ]
  },
  {
   "cell_type": "markdown",
   "id": "d18552f3af4f3ee4",
   "metadata": {
    "collapsed": false
   },
   "source": [
    "## Tool"
   ]
  },
  {
   "cell_type": "markdown",
   "id": "9ceb849a2ac775bb",
   "metadata": {
    "collapsed": false
   },
   "source": [
    "Upload either a CSV or text file here:"
   ]
  },
  {
   "cell_type": "code",
   "execution_count": null,
   "id": "6f02ffb5780d76b7",
   "metadata": {
    "collapsed": false
   },
   "outputs": [],
   "source": [
    "from ipywidgets import FileUpload\n",
    "from src.atap_widgets.concordance import ConcordanceLoader\n",
    "uploader = FileUpload(accept=\".csv,.txt\")\n",
    "display(uploader)\n",
    "symbol = None"
   ]
  },
  {
   "cell_type": "markdown",
   "id": "ceac3645d43bb7ac",
   "metadata": {
    "collapsed": false
   },
   "source": [
    "Provide a key/value splitting symbol or leave empty for no splitting."
   ]
  },
  {
   "cell_type": "code",
   "execution_count": null,
   "id": "7d1411ec-2051-412d-87e2-cd54b4a4713f",
   "metadata": {},
   "outputs": [],
   "source": [
    "symbol = input(\"Enter a symbol to split the text into key/value pairs (leave empty for none): \")\n",
    "if symbol == \"\":\n",
    "    symbol = None"
   ]
  },
  {
   "cell_type": "markdown",
   "id": "33c22a8d-9d74-47c8-918d-2e7781b6186e",
   "metadata": {},
   "source": [
    "Ensure you have uploaded a file and then run the block below to show the widget"
   ]
  },
  {
   "cell_type": "code",
   "execution_count": null,
   "id": "ea1897bd6ccdd924",
   "metadata": {
    "collapsed": false,
    "is_executing": true
   },
   "outputs": [],
   "source": [
    "uploaded = len(uploader.value) > 0\n",
    "if uploaded:\n",
    "    uploaded_file = uploader.value[0]\n",
    "    file_name = uploaded_file.name\n",
    "    with open(file_name, \"wb\") as fp:\n",
    "        fp.write(uploaded_file.content)\n",
    "    \n",
    "    file_type = uploaded_file.name[-3:]\n",
    "    \n",
    "    concordance_loader = ConcordanceLoader(path=file_name, type=file_type, re_symbol_txt=symbol)\n",
    "    concordance_loader.show()\n",
    "else:\n",
    "    print(\"Ensure you upload a file!\")"
   ]
  }
 ],
 "metadata": {
  "kernelspec": {
   "display_name": "Python 3 (ipykernel)",
   "language": "python",
   "name": "python3"
  },
  "language_info": {
   "codemirror_mode": {
    "name": "ipython",
    "version": 3
   },
   "file_extension": ".py",
   "mimetype": "text/x-python",
   "name": "python",
   "nbconvert_exporter": "python",
   "pygments_lexer": "ipython3",
   "version": "3.10.0"
  }
 },
 "nbformat": 4,
 "nbformat_minor": 5
}
