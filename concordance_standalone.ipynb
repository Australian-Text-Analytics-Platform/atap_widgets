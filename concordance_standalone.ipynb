{
 "cells": [
  {
   "cell_type": "markdown",
   "id": "21e007218f163f61",
   "metadata": {
    "collapsed": false
   },
   "source": [
    "# ATAP Concordancer"
   ]
  },
  {
   "cell_type": "markdown",
   "id": "9fad19ba24ac2609",
   "metadata": {
    "collapsed": false
   },
   "source": [
    "## Introduction"
   ]
  },
  {
   "cell_type": "markdown",
   "id": "1aec810dd29aeb8d",
   "metadata": {
    "collapsed": false
   },
   "source": [
    "This notebook is a Concordancer tool which allows users to upload text data (eg. .csv or .txt file) and to search the text for each instance of a search term, presenting it in the form of a concordance. The Concordancer retrieves all relevant instances of the search term and displays them for users in the tool as well as making them available for download as a CSV file for additional analysis. It has specifically been designed to allow users (i) to undertake ‘dialogic’ analysis (when the input consists of related text pairs, such as question-answer or social media post-response) and/or (ii) to make visible the meta-data that are associated with the occurrence of the search term (when available in the input; for example, speaker identity, political affiliation, company, etc).\n",
    "\n",
    "To do so, the data that is loaded into the notebook must contain ‘structured’ data, where one column consists of ‘text’ (eg the question or social media post) and the other columns consist of either the associated text of the dialogic pair (eg the relevant answer or the relevant reply/comment) or of metadata (describing aspects of the text). This is explained further below. In addition to this analysis of structured data, the notebook can create its own structured data based on symbols present in the uploaded text(s), automatically splitting the data preceding and following the relevant symbol (e.g. a colon or a question mark). This is also explained and illustrated further below.\n",
    "\n",
    "In sum, this notebook is not meant to feature all types of analyses offered by current off-the-shelf Concordancers and should be considered as complementary to such existing tools. You may want to use this tool if you are interested in using a Concordancer for dialogic analysis or exploring the relationship between search term and meta-data."
   ]
  },
  {
   "cell_type": "markdown",
   "id": "d18552f3af4f3ee4",
   "metadata": {
    "collapsed": false
   },
   "source": [
    "## File upload"
   ]
  },
  {
   "cell_type": "markdown",
   "id": "9ceb849a2ac775bb",
   "metadata": {
    "collapsed": false
   },
   "source": [
    "Upload a single txt or CSV file. Only one file can be uploaded and analysed at a time. Note that there is no progress indicator, but you will get a message if you run the next cell prior to the uploading process having completed."
   ]
  },
  {
   "cell_type": "code",
   "execution_count": null,
   "id": "6f02ffb5780d76b7",
   "metadata": {
    "collapsed": false
   },
   "outputs": [],
   "source": [
    "from ipywidgets import FileUpload\n",
    "from src.atap_widgets.concordance import ConcordanceLoader\n",
    "uploader = FileUpload(accept=\".csv,.txt\")\n",
    "display(uploader)"
   ]
  },
  {
   "cell_type": "markdown",
   "id": "44f775b881e6fd60",
   "metadata": {
    "collapsed": false
   },
   "source": [
    "## Preparation\n",
    "1. Upload a file by clicking the above 'Upload' button\n",
    "2. Run the code block below and wait for the concordancer tool to display\n",
    "\n",
    "Note: if you want to analyse dialogic structures (question-answer; post-response) or if you want to analyse metadata associated with your search term (such as the identity of the speaker, the date, etc.), you should upload your text data as a ‘structured’ .csv file. Note that you can save an .xlsx spreadsheet as .csv file within Excel (‘Save as’). Make sure that the text you want to analyse is included in the column titled ‘text’. A mocked-up example is provided below.\n",
    "\n",
    "![Structured text](./concordance_standalone_imgs/structured_eg.png)\n"
   ]
  },
  {
   "cell_type": "markdown",
   "id": "a32c6567-7f65-43d3-a3a5-4109255fefeb",
   "metadata": {},
   "source": [
    "## How to use"
   ]
  },
  {
   "cell_type": "markdown",
   "id": "33c22a8d-9d74-47c8-918d-2e7781b6186e",
   "metadata": {},
   "source": [
    "### Search\n",
    "1. Enter a search term into the search field and press enter on your keyboard to perform a search\n",
    "2. Toggle the checkboxes below the search field to enable/disable regular expression matching, case sensitivity, and whole word matching\n",
    "\n",
    "Note that without regular expressions the search field uses exact matching and considers punctuation (for example, a search for “oh my god” will NOT retrieve instances of “oh, my god”).\n",
    "\n",
    "Regular expressions can be used for advanced searches. Here are some examples:\n",
    "- `\\bfind\\w*\\b` - matches strings that start with 'find'\n",
    "- `\\b\\w*ness\\b` - matches strings that end with 'ness'\n",
    "- `oh,? my god` - matches \"oh my god\" or \"oh, my god\"\n",
    "- `\\bhope\\w{2}\\b` - matches strings that start with \"hope\" followed by 2 characters\n",
    "- `\\bwomen(?:\\s\\w+)?\\smen\\b` - matches strings that start with \"women\" and end in \"men\" with 0 or 1 words between them, e.g. \"women and men\", \"women or men\" will both match\n",
    "- `\\bthe\\s\\w+\\sof\\b` - matches strings that start with \"the\" and end in \"of\" with exactly 1 word between them, e.g. \"the minister of\" will match but \"the of\" will not\n",
    "- `\\b(his|him|himself)\\b` - matches any of the following words: \"him\", \"his\", \"himself\"\n",
    "- `\\b\\d+\\s[A-Za-z]+\\b` - matches strings that begin with a number and end with a word, e.g. \"10 dogs\" will match\n",
    "\n",
    "### Display\n",
    "1. Use the 'Sort by' dropdown to sort by text_id, left context, or right context\n",
    "    - The text_id field corresponds to the line number of the match in the text (where text_id is 0 for the first line). Sorting by text_id will display results in the order which they appear in the text.\n",
    "    - If sorting by left or right context, sorting is done in alphabetical order. More specifically, all uppercase characters come before lowercase characters, and digits and many punctuation marks come before letters. Additionally, a word will come before the same word with a punctuation mark following it, i.e. \"word\" comes before \"word!\"\n",
    "2. If your data contains metadata columns, use the 'Show More' field to select a metadata column to display.\n",
    "    - to select multiple metadata columns, hold the control/command key and click multiple\n",
    "3. Export the file to an Excel spreadsheet by providing an appropriate file name and clicking the button labelled \"Export to Excel\".\n",
    "   This sheet will appear in the Jupyter file window on the left and can be downloaded by right-clicking the file and clicking \"Download\"\n",
    "\n",
    "- If the context windows don't display all the text you would like to display, change the window size using the \"Window size\" field\n",
    "- If there are many results from the search, navigate through the pages of results using the 'Page' navigator field\n"
   ]
  },
  {
   "cell_type": "markdown",
   "id": "31e6333f-f6a5-4222-9361-785990cc8ae8",
   "metadata": {},
   "source": [
    "## Concordancer\n",
    "Ensure you have uploaded a file and then run the code cell below to show the Concordancer"
   ]
  },
  {
   "cell_type": "code",
   "execution_count": null,
   "id": "ea1897bd6ccdd924",
   "metadata": {
    "collapsed": false,
    "is_executing": true
   },
   "outputs": [],
   "source": [
    "uploaded = len(uploader.value) > 0\n",
    "if uploaded:\n",
    "    uploaded_file = uploader.value[0]\n",
    "    file_name = uploaded_file.name\n",
    "    try:\n",
    "        file_content = uploaded_file.content.tobytes().decode('utf-8')\n",
    "    except UnicodeDecodeError:\n",
    "        file_content = uploaded_file.content.tobytes().decode('latin-1')\n",
    "    with open(file_name, \"w\") as fp:\n",
    "        fp.write(file_content)\n",
    "    \n",
    "    file_type = uploaded_file.name[-3:]\n",
    "    \n",
    "    concordance_loader = ConcordanceLoader(path=file_name, type=file_type)\n",
    "    concordance_loader.show()\n",
    "else:\n",
    "    print(\"Ensure you upload a file!\")"
   ]
  },
  {
   "cell_type": "markdown",
   "id": "9786e4bf-577d-4041-b0b8-ec6a32fcab2b",
   "metadata": {},
   "source": [
    "## Concordancer - Unstructured data"
   ]
  },
  {
   "cell_type": "markdown",
   "id": "231fd7c7-2c91-47fe-8404-8b0a842c0e78",
   "metadata": {},
   "source": [
    "This more advanced feature of the Concordancer allows you to analyse discourse structures in unstructured text (text that does not contain different columns with aligned text pairs or aligned text-metadata pairs). It requires that your text contains a symbol that is consistently used to identify a structure. For instance, your text might use the colon symbol (:) ONLY after speakers and before their respective dialogue, as in the example below. \n",
    "\n",
    "![Dialogue example 1](./concordance_standalone_imgs/dialogue_eg1.png)\n",
    "\n",
    "Or your text might use the question mark symbol (?) only after the interviewer’s question, as in the example below:\n",
    "\n",
    "![Dialogue example 2](./concordance_standalone_imgs/dialogue_eg2.png)\n",
    "\n",
    "If your text uses such symbols consistently, this would allow you to use this tool to structure your text, for example into speaker-text pairs or question-answer pairs, and analyse it accordingly (similar to structured data).\n",
    "\n",
    "To do so, you specify a character across which the text data will be split. For example, if your text is of the format `speaker: spoken words`, you can specify the \"splitter\" to be the colon (:) symbol, which will create a column called \"key\" for the speaker and a column for the spoken words. You can then see which speaker spoke the words in a given concordance line. Note that information on the left of the chosen symbol (here speaker) will be a metadata column, while information on the right of the chosen symbol (here the words spoken by the speaker) will be treated as the text that is searched for with the Concordancer.\n",
    "\n",
    "In the code cell below, replace the : between the quotation marks to specify a different splitter character (for example a question mark), depending on what symbols are present in the uploaded text. "
   ]
  },
  {
   "cell_type": "code",
   "execution_count": null,
   "id": "fece7014-669d-4226-b1cb-a4046ce7dbca",
   "metadata": {},
   "outputs": [],
   "source": [
    "splitter = \":\"\n",
    "\n",
    "uploaded = len(uploader.value) > 0\n",
    "if uploaded:\n",
    "    uploaded_file = uploader.value[0]\n",
    "    file_name = uploaded_file.name\n",
    "    try:\n",
    "        file_content = uploaded_file.content.tobytes().decode('utf-8')\n",
    "    except UnicodeDecodeError:\n",
    "        file_content = uploaded_file.content.tobytes().decode('latin-1')\n",
    "    with open(file_name, \"w\") as fp:\n",
    "        fp.write(file_content)\n",
    "    \n",
    "    file_type = uploaded_file.name[-3:]\n",
    "    \n",
    "    concordance_loader = ConcordanceLoader(path=file_name, type=file_type, re_symbol_txt=splitter)\n",
    "    concordance_loader.show()\n",
    "else:\n",
    "    print(\"Ensure you upload a file!\")"
   ]
  },
  {
   "cell_type": "code",
   "execution_count": null,
   "id": "d3f27c8a-743c-4c3d-ae19-fcec1e6610fc",
   "metadata": {},
   "outputs": [],
   "source": []
  }
 ],
 "metadata": {
  "kernelspec": {
   "display_name": "Python 3 (ipykernel)",
   "language": "python",
   "name": "python3"
  },
  "language_info": {
   "codemirror_mode": {
    "name": "ipython",
    "version": 3
   },
   "file_extension": ".py",
   "mimetype": "text/x-python",
   "name": "python",
   "nbconvert_exporter": "python",
   "pygments_lexer": "ipython3",
   "version": "3.10.0"
  }
 },
 "nbformat": 4,
 "nbformat_minor": 5
}
