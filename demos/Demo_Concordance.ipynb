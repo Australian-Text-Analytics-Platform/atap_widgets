{
 "cells": [
  {
   "cell_type": "markdown",
   "id": "571c3c83-7e4b-47f3-a8f0-fdfffe0e8034",
   "metadata": {},
   "source": [
    "**Introduction**\n",
    "- ConcordanceLoader is a class that loads text data catering for CSV, Text Files, and existing DataFrames types. Once a class is created, a key word can be searched in the data and its concordance (i.e. existance) within the text is shown.\n",
    "\n",
    "- The main advantages of this class over other concordance tools are:\n",
    "    1. The ability to work with multiple data inputs (files (csv,text) and dataframes.\n",
    "    \n",
    "    2. Most concordance tools only show context of a key work limited to the line the key word is in. The context this ConcordanceLoader can work with spans more than the existing line and is limited to how the data is grouped into chunks (see below).\n",
    "    \n",
    "    3. When loading structured data that not only has text but other descriptive dimensions (for instance a csv that has a text column and other columns descibing the text), this tool can not only search for the context by keyword, but make visible the other descriptive columns associated with the matching text.\n",
    "    \n",
    "    4. Natural Language processing tools drive the keyword search. Thus the ConcordanceLoader has the potential in the future to be used in more versatile ways (for instance using languages other than english).\n",
    "    \n",
    "**How it works**\n",
    "\n",
    "- Lines of text are grouped into chunks and each row is tagged with its row number. The chunk variable is an integer reflecting the number of lines you intend to group within each chunk (i.e. the size in lines of one chunk). The context the keyword appears in is bounded by the chunk it resides in. A larger number of chunk groups the data more coarsely offering greater context (at the expense of loading times in some cases). \n",
    "\n",
    "- Text files are a special mention, where symbols can be assigned which are used search and split the text into key- value pairs. The ConcordanceLoader filters the text for these key-value pairs and converts matches it into a two columned dataframe object.\n",
    "\n",
    "\n",
    "**Limitations:**\n",
    "- If the word you are matching begins at the start of a group, the left context is limites by the start of the chunk group. A larger chunk integer is suggested.\n",
    "- Lines are tagged with a --[line_number] symbol in the text (which can be removed from the widget display). However, if the raw data has this pattern within the text it could cause confusion with line tagging method"
   ]
  },
  {
   "cell_type": "code",
   "execution_count": 9,
   "id": "c411e0fe",
   "metadata": {},
   "outputs": [],
   "source": [
    "import pandas as pd\n",
    "import spacy\n",
    "#from atap_widgets.concordance import ConcordanceTable, ConcordanceWidget\n",
    "from concordance import ConcordanceTable, ConcordanceWidget, ConcordanceLoader\n",
    "from concordance import prepare_text_df\n",
    "import dask.bag as db\n",
    "import re\n"
   ]
  },
  {
   "cell_type": "code",
   "execution_count": 10,
   "id": "f9ce2a40",
   "metadata": {},
   "outputs": [],
   "source": [
    "#Make and refer to some example data\n",
    "\n",
    "def sherlock_holmes_five_sentences():\n",
    "    return \"\"\"To Sherlock Holmes she is always the woman. I have seldom heard him\n",
    "    mention her under any other name. In his eyes she eclipses and predominates the\n",
    "    whole of her sex. It was not that he felt any emotion akin to love for Irene\n",
    "    Adler. All emotions, and that one particularly, were abhorrent to his cold,\n",
    "    precise but admirably balanced mind. \"\"\"\n",
    "\n",
    "\n",
    "def basic_spacy_nlp():\n",
    "    return spacy.load(\"en_core_web_sm\")\n",
    "\n",
    "\n",
    "def sherlock_holmes_doc(sherlock_holmes_five_sentences, basic_spacy_nlp):\n",
    "    return basic_spacy_nlp(sherlock_holmes_five_sentences)\n",
    "\n",
    "def sherlock_holmes_dummy_df(sherlock_holmes_doc):\n",
    "    \"\"\"\n",
    "    DataFrame, one row per sentence from the Sherlock Holmes example\n",
    "    \"\"\"\n",
    "    df = pd.DataFrame(\n",
    "        {\n",
    "            \"text\": [str(sentence) for sentence in sherlock_holmes_doc.sents],\n",
    "            \"speaker\": list(\"ABABA\"),\n",
    "        }\n",
    "    )\n",
    "    return df\n",
    "\n",
    "data = sherlock_holmes_five_sentences()\n",
    "sherlock_df = sherlock_holmes_dummy_df(sherlock_holmes_doc(data,basic_spacy_nlp()))\n",
    "\n",
    "Question_Answer_Dialogue = '../../tests/data/D.QandA_Dummy.txt'\n",
    "\n",
    "MarkScottSpeach = \"../../tests/data/MarkScottNationalPressClub.txt\"\n"
   ]
  },
  {
   "cell_type": "markdown",
   "id": "1b7b31d0",
   "metadata": {},
   "source": [
    "## ConcordanceLoader Demo 1"
   ]
  },
  {
   "cell_type": "markdown",
   "id": "8fb5ac4d-bbf6-474d-9118-ba01beacc7a6",
   "metadata": {},
   "source": [
    "Run the below code and explore:\n",
    "\n",
    "* Keyword searches and other options to toggle case sensitivity,regular expression and whole word matching.\n",
    "* Increasing \"Window Size(characters) \" to bring in context around the keyword.\n",
    "* Show More Multiselect dropdown can bring in more than one column by \"command + click\" when choosing."
   ]
  },
  {
   "cell_type": "code",
   "execution_count": 12,
   "id": "d3733ac4",
   "metadata": {},
   "outputs": [
    {
     "name": "stderr",
     "output_type": "stream",
     "text": [
      "/Users/kris/miniconda3/envs/atap_sandbox/lib/python3.9/site-packages/pandas/core/indexes/base.py:6982: FutureWarning: In a future version, the Index constructor will not infer numeric dtypes when passed object-dtype sequences (matching Series behavior)\n",
      "  return Index(sequences[0], name=names)\n"
     ]
    },
    {
     "data": {
      "application/vnd.jupyter.widget-view+json": {
       "model_id": "6b5d3ca5c33249cf80ff992d98f98ee0",
       "version_major": 2,
       "version_minor": 0
      },
      "text/plain": [
       "VBox(children=(Text(value='', description='Keyword(s):'), HBox(children=(Checkbox(value=False, description='En…"
      ]
     },
     "metadata": {},
     "output_type": "display_data"
    },
    {
     "data": {
      "text/plain": [
       "<concordance.ConcordanceLoaderWidget at 0x2ab8f9160>"
      ]
     },
     "execution_count": 12,
     "metadata": {},
     "output_type": "execute_result"
    }
   ],
   "source": [
    "\n",
    "CHUNK = 2\n",
    "\n",
    "#loads ConcordanceLoader class ingesting data either in csv\n",
    "DataCSV = ConcordanceLoader(type = \"csv\",path = \"../../tests/data/sherlock_for_testing.csv\",chunk = CHUNK) #By Text / Csv file\n",
    "\n",
    "# or in dataframe format\n",
    "#DataCSV = ConcordanceLoader(type = \"dataframe\",df_input = sherlock_df,chunk = CHUNK)  # Or exisitng dataframe\n",
    "\n",
    "#to display widget show the class instance\n",
    "DataCSV.show() #For instance, search for \"she\" in sherlock holmes data\n"
   ]
  },
  {
   "cell_type": "code",
   "execution_count": 4,
   "id": "c6ac7a36-497d-4757-826e-c0b3cf7bee8d",
   "metadata": {},
   "outputs": [
    {
     "data": {
      "text/html": [
       "<div>\n",
       "<style scoped>\n",
       "    .dataframe tbody tr th:only-of-type {\n",
       "        vertical-align: middle;\n",
       "    }\n",
       "\n",
       "    .dataframe tbody tr th {\n",
       "        vertical-align: top;\n",
       "    }\n",
       "\n",
       "    .dataframe thead th {\n",
       "        text-align: right;\n",
       "    }\n",
       "</style>\n",
       "<table border=\"1\" class=\"dataframe\">\n",
       "  <thead>\n",
       "    <tr style=\"text-align: right;\">\n",
       "      <th></th>\n",
       "      <th>text</th>\n",
       "      <th>speaker</th>\n",
       "      <th>chunk</th>\n",
       "      <th>row</th>\n",
       "    </tr>\n",
       "  </thead>\n",
       "  <tbody>\n",
       "    <tr>\n",
       "      <th>0</th>\n",
       "      <td>0--To Sherlock Holmes she is always the woman.</td>\n",
       "      <td>A</td>\n",
       "      <td>0</td>\n",
       "      <td>0</td>\n",
       "    </tr>\n",
       "    <tr>\n",
       "      <th>1</th>\n",
       "      <td>1--I have seldom heard him\\n    mention her un...</td>\n",
       "      <td>B</td>\n",
       "      <td>0</td>\n",
       "      <td>1</td>\n",
       "    </tr>\n",
       "    <tr>\n",
       "      <th>2</th>\n",
       "      <td>2--In his eyes she eclipses and predominates t...</td>\n",
       "      <td>A</td>\n",
       "      <td>1</td>\n",
       "      <td>2</td>\n",
       "    </tr>\n",
       "    <tr>\n",
       "      <th>3</th>\n",
       "      <td>3--It was not that he felt any emotion akin to...</td>\n",
       "      <td>B</td>\n",
       "      <td>1</td>\n",
       "      <td>3</td>\n",
       "    </tr>\n",
       "    <tr>\n",
       "      <th>4</th>\n",
       "      <td>4--All emotions, and that one particularly, we...</td>\n",
       "      <td>A</td>\n",
       "      <td>2</td>\n",
       "      <td>4</td>\n",
       "    </tr>\n",
       "  </tbody>\n",
       "</table>\n",
       "</div>"
      ],
      "text/plain": [
       "                                                text speaker  chunk  row\n",
       "0     0--To Sherlock Holmes she is always the woman.       A      0    0\n",
       "1  1--I have seldom heard him\\n    mention her un...       B      0    1\n",
       "2  2--In his eyes she eclipses and predominates t...       A      1    2\n",
       "3  3--It was not that he felt any emotion akin to...       B      1    3\n",
       "4  4--All emotions, and that one particularly, we...       A      2    4"
      ]
     },
     "execution_count": 4,
     "metadata": {},
     "output_type": "execute_result"
    }
   ],
   "source": [
    "#Can explore how underlying data was grouped into chunks with line tags used for internal purposes\n",
    "\n",
    "DataCSV.get_grouped_data()"
   ]
  },
  {
   "cell_type": "markdown",
   "id": "1a308a67",
   "metadata": {},
   "source": [
    "## ConcordanceLoader Demo 2: Larger mutliple dimensioned (i.e. columns) text data"
   ]
  },
  {
   "cell_type": "code",
   "execution_count": 13,
   "id": "b7a89032",
   "metadata": {},
   "outputs": [
    {
     "name": "stderr",
     "output_type": "stream",
     "text": [
      "/Users/kris/miniconda3/envs/atap_sandbox/lib/python3.9/site-packages/pandas/core/indexes/base.py:6982: FutureWarning: In a future version, the Index constructor will not infer numeric dtypes when passed object-dtype sequences (matching Series behavior)\n",
      "  return Index(sequences[0], name=names)\n"
     ]
    },
    {
     "data": {
      "application/vnd.jupyter.widget-view+json": {
       "model_id": "563e4b3f04f747179a7eaa70087a47e3",
       "version_major": 2,
       "version_minor": 0
      },
      "text/plain": [
       "VBox(children=(Text(value='', description='Keyword(s):'), HBox(children=(Checkbox(value=False, description='En…"
      ]
     },
     "metadata": {},
     "output_type": "display_data"
    },
    {
     "data": {
      "text/plain": [
       "<concordance.ConcordanceLoaderWidget at 0x2a656a850>"
      ]
     },
     "execution_count": 13,
     "metadata": {},
     "output_type": "execute_result"
    }
   ],
   "source": [
    "# More complex and larger debate data \n",
    "CHUNK = 10 #increase chunks to expand context region. i.e. \"time\" search for instance\n",
    "data = pd.read_excel(\"../../tests/data/A.debate_clean.xlsx\") #already has text_id\n",
    "DataDF = ConcordanceLoader(type = \"dataframe\",df_input = data,chunk = CHUNK)\n",
    "DataDF.show() #search \"economy\" or \"environment\" and bring in speaker from ShowMore dropdown to find out who said what\n"
   ]
  },
  {
   "cell_type": "markdown",
   "id": "9ce51f13",
   "metadata": {},
   "source": [
    "## ConcordanceLoader Demo 3: Structured Text"
   ]
  },
  {
   "cell_type": "code",
   "execution_count": 14,
   "id": "caf9ac92-a6da-41e2-a468-72e75e89b28f",
   "metadata": {},
   "outputs": [
    {
     "name": "stdout",
     "output_type": "stream",
     "text": [
      "Question: What is your favourite animal in Australia?\n",
      "Name 6: Kangaroos and koalas.\n",
      "\n",
      "Question: What is your favourite animal in Australia?\n",
      "Name 1: Wombats are my favourite.\n",
      "\n",
      "Question: What is your favourite animal in Australia?\n",
      "Name 10: I don’t know, but I know I don’t like any of the poisonous spiders and dangerous snakes!\n",
      "\n",
      "Question: What is your favourite food in Australia?\n",
      "Name 10: Tomatos for sure!\n",
      "\n",
      "Question: What is your favourite food in Australia?\n",
      "Name 6: I decline to answer that.\n",
      "\n"
     ]
    }
   ],
   "source": [
    "# This is what data looks like. Notice the key:value structure within the text.\n",
    "! head -15 $Question_Answer_Dialogue"
   ]
  },
  {
   "cell_type": "code",
   "execution_count": 15,
   "id": "d2b33d8e",
   "metadata": {},
   "outputs": [
    {
     "name": "stderr",
     "output_type": "stream",
     "text": [
      "/Users/kris/miniconda3/envs/atap_sandbox/lib/python3.9/site-packages/pandas/core/indexes/base.py:6982: FutureWarning: In a future version, the Index constructor will not infer numeric dtypes when passed object-dtype sequences (matching Series behavior)\n",
      "  return Index(sequences[0], name=names)\n"
     ]
    },
    {
     "data": {
      "application/vnd.jupyter.widget-view+json": {
       "model_id": "d34079126e5a45a9b1732cf82d4f6623",
       "version_major": 2,
       "version_minor": 0
      },
      "text/plain": [
       "VBox(children=(Text(value='', description='Keyword(s):'), HBox(children=(Checkbox(value=False, description='En…"
      ]
     },
     "metadata": {},
     "output_type": "display_data"
    },
    {
     "data": {
      "text/plain": [
       "<concordance.ConcordanceLoaderWidget at 0x2a4b90c70>"
      ]
     },
     "execution_count": 15,
     "metadata": {},
     "output_type": "execute_result"
    }
   ],
   "source": [
    "# With text types, you can define a symbol to split lines assuming all relevant info is in the structure key [SYMBOL] value.\n",
    "# The keyword is searched in the value field, and the additional key column (whateve was before the SYMBOL) can be selected\n",
    "symbol = r':' \n",
    "\n",
    "CHUNK = 4\n",
    "\n",
    "DataDF = ConcordanceLoader(type = \"txt\",path = Question_Answer_Dialogue,re_symbol_txt = symbol,chunk = CHUNK)\n",
    "\n",
    "DataDF.show() #search tomatos, pick \"key\" in \"Show More\" to bring in key associated with text.\n"
   ]
  },
  {
   "cell_type": "code",
   "execution_count": 9,
   "id": "58130ff4",
   "metadata": {},
   "outputs": [
    {
     "data": {
      "text/plain": [
       "array(['Name 1', 'Name 10', 'Name 6', 'Name11', 'Question'], dtype=object)"
      ]
     },
     "execution_count": 9,
     "metadata": {},
     "output_type": "execute_result"
    }
   ],
   "source": [
    "# As a side note, one can work with underlying dataframe for further analysis.\n",
    "DataDF.get_grouped_data().sort_values('key').key.unique()\n"
   ]
  },
  {
   "cell_type": "markdown",
   "id": "0bd7631b",
   "metadata": {},
   "source": [
    "## ConcordanceLoader Demo 4: Plain text"
   ]
  },
  {
   "cell_type": "code",
   "execution_count": 6,
   "id": "f6197e76-4ec5-4785-a332-aff2eedbb9d5",
   "metadata": {},
   "outputs": [
    {
     "name": "stdout",
     "output_type": "stream",
     "text": [
      "\n",
      "\n",
      "I acknowledge that we meet today on the ancestral lands of the Ngunnawal people, the traditional custodians of this land. I pay my respects to elders past and present, and those who have cared for and continue to care for country.\n",
      "\n",
      "It’s great to be with you.\n",
      "\n",
      "The University of Sydney is Australia’s oldest university. We took in our first students in 1852 and just yesterday released our aspirations for the decade through to 2032, by which time we’ll be closing in on the end of the University’s second century.\n",
      "\n",
      "In considering our future, we humbly acknowledge that for hundreds of centuries before the University of Sydney opened its doors, generations of First Nations peoples have been exchanging knowledge on the ancestral lands on which the University’s campuses and facilities now stand. And as we create a university for the future, we aim to extend and build upon this prior knowledge.\n",
      "\n"
     ]
    }
   ],
   "source": [
    "#the underlying data communicates the University of Sydney 2022 Strategy\n",
    "! head -n 10 $MarkScottSpeach"
   ]
  },
  {
   "cell_type": "code",
   "execution_count": 7,
   "id": "80adaaa9-0ff0-4b84-b5ca-86d87038861d",
   "metadata": {},
   "outputs": [
    {
     "name": "stderr",
     "output_type": "stream",
     "text": [
      "/Users/kris/miniconda3/envs/atap_sandbox/lib/python3.9/site-packages/pandas/core/indexes/base.py:6982: FutureWarning: In a future version, the Index constructor will not infer numeric dtypes when passed object-dtype sequences (matching Series behavior)\n",
      "  return Index(sequences[0], name=names)\n"
     ]
    },
    {
     "data": {
      "application/vnd.jupyter.widget-view+json": {
       "model_id": "44ed906a9d87468483188f72a7f828c0",
       "version_major": 2,
       "version_minor": 0
      },
      "text/plain": [
       "VBox(children=(Text(value='', description='Keyword(s):'), HBox(children=(Checkbox(value=False, description='En…"
      ]
     },
     "metadata": {},
     "output_type": "display_data"
    },
    {
     "data": {
      "text/plain": [
       "<concordance.ConcordanceLoaderWidget at 0x2a61d9370>"
      ]
     },
     "execution_count": 7,
     "metadata": {},
     "output_type": "execute_result"
    }
   ],
   "source": [
    "# Loads text without any key value structure \n",
    "CHUNK = 4\n",
    "DataDF = ConcordanceLoader(type = \"txt\",path = MarkScottSpeach)\n",
    "DataDF.show() #search for \"pandemic\" for instance\n"
   ]
  },
  {
   "cell_type": "markdown",
   "id": "6409d63b-e1c3-4635-9e3a-2e55ad66eb8e",
   "metadata": {},
   "source": [
    "### Simpler functionality is still present that that reflects older DataWidget and Concordance Table development"
   ]
  },
  {
   "cell_type": "code",
   "execution_count": 8,
   "id": "60c2e28c-0f3f-423c-b87a-6d7dbb4b2929",
   "metadata": {},
   "outputs": [
    {
     "name": "stderr",
     "output_type": "stream",
     "text": [
      "/Users/kris/miniconda3/envs/atap_sandbox/lib/python3.9/site-packages/pandas/core/indexes/base.py:6982: FutureWarning: In a future version, the Index constructor will not infer numeric dtypes when passed object-dtype sequences (matching Series behavior)\n",
      "  return Index(sequences[0], name=names)\n"
     ]
    },
    {
     "data": {
      "application/vnd.jupyter.widget-view+json": {
       "model_id": "ae09614554be4fd3a47c8080a1954ce8",
       "version_major": 2,
       "version_minor": 0
      },
      "text/plain": [
       "VBox(children=(Text(value='', description='Keyword(s):'), HBox(children=(Checkbox(value=False, description='En…"
      ]
     },
     "metadata": {},
     "output_type": "display_data"
    }
   ],
   "source": [
    "\n",
    "original_data = DataCSV.get_original_data()\n",
    "\n",
    "original_data.head() #chuch and row columns added to original data.\n",
    "\n",
    "data = pd.read_csv(\"../../tests/data/sherlock_for_testing.csv\")                  \n",
    "data =  prepare_text_df(data)\n",
    "\n",
    "table = ConcordanceTable(df = data,keyword = \"she\")\n",
    "table\n",
    "\n",
    "search_results_df = table.to_dataframe() #extract results into dataframe\n",
    "search_results_df.head()\n",
    "\n",
    "oldWidget = ConcordanceWidget(data) #run simplier widget (no chunks or context)\n",
    "oldWidget.show()\n"
   ]
  },
  {
   "cell_type": "code",
   "execution_count": null,
   "id": "f602f395-c4c9-4c8f-b9e8-0c8bd05a3644",
   "metadata": {},
   "outputs": [],
   "source": []
  }
 ],
 "metadata": {
  "kernelspec": {
   "display_name": "Python 3 (ipykernel)",
   "language": "python",
   "name": "python3"
  },
  "language_info": {
   "codemirror_mode": {
    "name": "ipython",
    "version": 3
   },
   "file_extension": ".py",
   "mimetype": "text/x-python",
   "name": "python",
   "nbconvert_exporter": "python",
   "pygments_lexer": "ipython3",
   "version": "3.9.13"
  }
 },
 "nbformat": 4,
 "nbformat_minor": 5
}
